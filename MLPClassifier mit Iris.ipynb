{
 "cells": [
  {
   "cell_type": "code",
   "execution_count": 46,
   "metadata": {},
   "outputs": [],
   "source": [
    "import numpy as np\n",
    "import pandas as pd\n",
    "import scipy as sp\n",
    "import matplotlib.pyplot as plt\n",
    "import seaborn as sns\n",
    "import sklearn"
   ]
  },
  {
   "cell_type": "code",
   "execution_count": 47,
   "metadata": {},
   "outputs": [],
   "source": [
    "#from sklearn.datasets import load_iris\n",
    "#i=load_iris()"
   ]
  },
  {
   "cell_type": "code",
   "execution_count": 48,
   "metadata": {},
   "outputs": [
    {
     "name": "stdout",
     "output_type": "stream",
     "text": [
      "   sepal length  sepal width  petal length  petal width        class\n",
      "0           5.1          3.5           1.4          0.2  Iris-setosa\n",
      "1           4.9          3.0           1.4          0.2  Iris-setosa\n",
      "2           4.7          3.2           1.3          0.2  Iris-setosa\n",
      "3           4.6          3.1           1.5          0.2  Iris-setosa\n",
      "4           5.0          3.6           1.4          0.2  Iris-setosa\n",
      "(150, 5)\n"
     ]
    }
   ],
   "source": [
    "names= [\"sepal length\", \"sepal width\", \"petal length\", \"petal width\", \"class\"]\n",
    "url=\"https://archive.ics.uci.edu/ml/machine-learning-databases/iris/iris.data\"\n",
    "i=pd.read_csv(url, names = names)\n",
    "print(i.head())\n",
    "print(i.shape)"
   ]
  },
  {
   "cell_type": "code",
   "execution_count": 49,
   "metadata": {},
   "outputs": [
    {
     "name": "stdout",
     "output_type": "stream",
     "text": [
      "              class\n",
      "0       Iris-setosa\n",
      "1       Iris-setosa\n",
      "2       Iris-setosa\n",
      "3       Iris-setosa\n",
      "4       Iris-setosa\n",
      "5       Iris-setosa\n",
      "6       Iris-setosa\n",
      "7       Iris-setosa\n",
      "8       Iris-setosa\n",
      "9       Iris-setosa\n",
      "10      Iris-setosa\n",
      "11      Iris-setosa\n",
      "12      Iris-setosa\n",
      "13      Iris-setosa\n",
      "14      Iris-setosa\n",
      "15      Iris-setosa\n",
      "16      Iris-setosa\n",
      "17      Iris-setosa\n",
      "18      Iris-setosa\n",
      "19      Iris-setosa\n",
      "20      Iris-setosa\n",
      "21      Iris-setosa\n",
      "22      Iris-setosa\n",
      "23      Iris-setosa\n",
      "24      Iris-setosa\n",
      "25      Iris-setosa\n",
      "26      Iris-setosa\n",
      "27      Iris-setosa\n",
      "28      Iris-setosa\n",
      "29      Iris-setosa\n",
      "..              ...\n",
      "120  Iris-virginica\n",
      "121  Iris-virginica\n",
      "122  Iris-virginica\n",
      "123  Iris-virginica\n",
      "124  Iris-virginica\n",
      "125  Iris-virginica\n",
      "126  Iris-virginica\n",
      "127  Iris-virginica\n",
      "128  Iris-virginica\n",
      "129  Iris-virginica\n",
      "130  Iris-virginica\n",
      "131  Iris-virginica\n",
      "132  Iris-virginica\n",
      "133  Iris-virginica\n",
      "134  Iris-virginica\n",
      "135  Iris-virginica\n",
      "136  Iris-virginica\n",
      "137  Iris-virginica\n",
      "138  Iris-virginica\n",
      "139  Iris-virginica\n",
      "140  Iris-virginica\n",
      "141  Iris-virginica\n",
      "142  Iris-virginica\n",
      "143  Iris-virginica\n",
      "144  Iris-virginica\n",
      "145  Iris-virginica\n",
      "146  Iris-virginica\n",
      "147  Iris-virginica\n",
      "148  Iris-virginica\n",
      "149  Iris-virginica\n",
      "\n",
      "[150 rows x 1 columns]\n",
      "     class\n",
      "0        0\n",
      "1        0\n",
      "2        0\n",
      "3        0\n",
      "4        0\n",
      "5        0\n",
      "6        0\n",
      "7        0\n",
      "8        0\n",
      "9        0\n",
      "10       0\n",
      "11       0\n",
      "12       0\n",
      "13       0\n",
      "14       0\n",
      "15       0\n",
      "16       0\n",
      "17       0\n",
      "18       0\n",
      "19       0\n",
      "20       0\n",
      "21       0\n",
      "22       0\n",
      "23       0\n",
      "24       0\n",
      "25       0\n",
      "26       0\n",
      "27       0\n",
      "28       0\n",
      "29       0\n",
      "..     ...\n",
      "120      2\n",
      "121      2\n",
      "122      2\n",
      "123      2\n",
      "124      2\n",
      "125      2\n",
      "126      2\n",
      "127      2\n",
      "128      2\n",
      "129      2\n",
      "130      2\n",
      "131      2\n",
      "132      2\n",
      "133      2\n",
      "134      2\n",
      "135      2\n",
      "136      2\n",
      "137      2\n",
      "138      2\n",
      "139      2\n",
      "140      2\n",
      "141      2\n",
      "142      2\n",
      "143      2\n",
      "144      2\n",
      "145      2\n",
      "146      2\n",
      "147      2\n",
      "148      2\n",
      "149      2\n",
      "\n",
      "[150 rows x 1 columns]\n"
     ]
    }
   ],
   "source": [
    "# y-Werte (class) sind kategorial. Aber NN arbeitet besser mit numerische Daten -> Umwandeln\n",
    "y=i.select_dtypes(include=[object])\n",
    "print(y)\n",
    "from sklearn import preprocessing\n",
    "le= preprocessing.LabelEncoder()\n",
    "\n",
    "# passen den Etikettencodierer an und geben sie zurückt\n",
    "y=y.apply(le.fit_transform) \n",
    "print(y)"
   ]
  },
  {
   "cell_type": "code",
   "execution_count": 50,
   "metadata": {},
   "outputs": [],
   "source": [
    "X=i.iloc[:, 0:4]\n"
   ]
  },
  {
   "cell_type": "code",
   "execution_count": 51,
   "metadata": {},
   "outputs": [],
   "source": [
    "# Aufteilen Daten in Trainingsdaten und Testdaten\n",
    "from sklearn.model_selection import  train_test_split\n",
    "X_train, X_test, y_train, y_test = train_test_split (X,y, test_size=0.20) # teilt 20% des Datensatzes in Testdaten auf. 80% für TRaining"
   ]
  },
  {
   "cell_type": "code",
   "execution_count": 52,
   "metadata": {},
   "outputs": [
    {
     "name": "stdout",
     "output_type": "stream",
     "text": [
      "[[ 1.09203865  0.63395731  1.13296244  1.22099444]\n",
      " [-1.52387142  0.40481611 -1.37608743 -1.33301228]\n",
      " [ 0.09550148  0.40481611  0.60781247  0.81773022]\n",
      " [-1.15016998 -1.19917226  0.43276248  0.68330881]\n",
      " [-1.77300571  0.40481611 -1.43443743 -1.33301228]\n",
      " [ 0.22006862 -0.28260748  0.43276248  0.414466  ]\n",
      " [-0.15363281 -0.51174867  0.19936249  0.14562319]\n",
      " [-0.27819996 -0.74088987  0.25771249  0.14562319]\n",
      " [-0.02906567 -0.74088987  0.78286246  0.95215163]\n",
      " [ 2.33771011  1.7796633   1.71646241  1.35541584]\n",
      " [-1.77300571 -0.28260748 -1.37608743 -1.33301228]\n",
      " [-0.90103569  1.09223971 -1.37608743 -1.19859087]\n",
      " [-0.15363281  3.15451048 -1.31773743 -1.06416946]\n",
      " [ 1.71487438  1.3213809   1.36636243  1.75868006]\n",
      " [-0.52733425  2.00880449 -1.20103744 -1.06416946]\n",
      " [-0.02906567 -0.74088987  0.0826625   0.01120178]\n",
      " [-0.52733425 -0.05346628  0.43276248  0.414466  ]\n",
      " [ 1.34117294  0.17567492  0.95791245  1.22099444]\n",
      " [ 0.34463577 -0.05346628  0.49111248  0.2800446 ]\n",
      " [-0.02906567 -0.74088987  0.78286246  0.95215163]\n",
      " [-1.27473713  0.86309851 -1.25938744 -1.33301228]\n",
      " [ 0.22006862  0.86309851  0.43276248  0.54888741]\n",
      " [ 0.22006862 -1.88659585  0.72451246  0.414466  ]\n",
      " [ 0.59377006 -0.51174867  0.78286246  0.414466  ]\n",
      " [-1.02560283  0.86309851 -1.25938744 -1.06416946]\n",
      " [ 1.83944152 -0.28260748  1.48306243  0.81773022]\n",
      " [-1.02560283 -2.34487825 -0.15073749 -0.25764103]\n",
      " [ 2.33771011 -0.05346628  1.36636243  1.48983725]\n",
      " [ 0.09550148 -0.05346628  0.25771249  0.414466  ]\n",
      " [-0.6519014   1.5505221  -1.31773743 -1.33301228]\n",
      " [ 0.34463577 -0.97003107  1.07461245  0.2800446 ]\n",
      " [-1.39930427  0.40481611 -1.43443743 -1.33301228]\n",
      " [-0.02906567 -0.51174867  0.78286246  1.62425865]\n",
      " [-0.15363281 -0.97003107 -0.15073749 -0.25764103]\n",
      " [ 0.46920292 -0.51174867  0.60781247  0.81773022]\n",
      " [-1.15016998 -0.05346628 -1.37608743 -1.33301228]\n",
      " [-0.52733425  0.86309851 -1.31773743 -1.06416946]\n",
      " [ 2.21314296 -0.05346628  1.65811242  1.22099444]\n",
      " [-0.40276711  1.09223971 -1.43443743 -1.33301228]\n",
      " [ 1.09203865 -0.05346628  0.84121246  1.48983725]\n",
      " [ 0.46920292 -1.88659585  0.43276248  0.414466  ]\n",
      " [ 1.21660579 -0.51174867  0.60781247  0.2800446 ]\n",
      " [ 0.71833721  0.40481611  0.43276248  0.414466  ]\n",
      " [ 0.59377006  0.63395731  0.54946247  0.54888741]\n",
      " [-0.27819996 -0.05346628  0.43276248  0.414466  ]\n",
      " [-0.90103569  1.7796633  -1.25938744 -1.33301228]\n",
      " [-0.40276711 -0.97003107  0.37441248  0.01120178]\n",
      " [ 0.84290435 -0.05346628  1.19131244  1.35541584]\n",
      " [-1.02560283 -0.05346628 -1.25938744 -1.33301228]\n",
      " [-0.02906567 -0.74088987  0.19936249 -0.25764103]\n",
      " [ 0.34463577 -0.51174867  0.14101249  0.14562319]\n",
      " [-0.15363281 -0.05346628  0.25771249  0.01120178]\n",
      " [-0.15363281  1.7796633  -1.20103744 -1.19859087]\n",
      " [-1.39930427  0.40481611 -1.25938744 -1.33301228]\n",
      " [ 0.9674715  -0.28260748  0.49111248  0.14562319]\n",
      " [-1.89757286 -0.05346628 -1.55113742 -1.46743368]\n",
      " [-0.52733425  2.00880449 -1.43443743 -1.06416946]\n",
      " [ 0.59377006 -1.19917226  0.66616247  0.414466  ]\n",
      " [-0.15363281 -0.51174867  0.43276248  0.14562319]\n",
      " [ 0.84290435 -0.05346628  0.84121246  1.08657303]\n",
      " [ 1.09203865  0.17567492  1.07461245  1.62425865]\n",
      " [ 0.59377006 -1.19917226  0.72451246  0.95215163]\n",
      " [-0.15363281 -1.19917226  0.72451246  1.08657303]\n",
      " [-1.15016998  0.17567492 -1.31773743 -1.46743368]\n",
      " [ 0.34463577 -0.51174867  0.54946247  0.01120178]\n",
      " [ 2.33771011 -0.51174867  1.71646241  1.08657303]\n",
      " [-0.27819996 -1.19917226  0.0826625  -0.12321962]\n",
      " [-1.15016998  0.17567492 -1.31773743 -1.46743368]\n",
      " [ 1.09203865 -0.05346628  0.72451246  0.68330881]\n",
      " [ 1.34117294  0.40481611  1.13296244  1.48983725]\n",
      " [ 0.71833721 -0.74088987  0.89956246  0.95215163]\n",
      " [-1.52387142  0.86309851 -1.37608743 -1.19859087]\n",
      " [ 0.09550148 -0.05346628  0.78286246  0.81773022]\n",
      " [-1.02560283  0.40481611 -1.49278743 -1.33301228]\n",
      " [ 1.21660579  0.40481611  1.24966244  1.48983725]\n",
      " [ 0.9674715  -0.05346628  0.37441248  0.2800446 ]\n",
      " [ 0.71833721 -0.51174867  1.07461245  1.22099444]\n",
      " [ 0.71833721 -0.28260748  0.31606248  0.14562319]\n",
      " [-0.40276711 -1.42831346 -0.0340375  -0.25764103]\n",
      " [-0.27819996 -0.05346628  0.19936249  0.14562319]\n",
      " [ 1.71487438  0.40481611  1.30801243  0.81773022]\n",
      " [-0.40276711  2.69622808 -1.37608743 -1.33301228]\n",
      " [-1.52387142  0.17567492 -1.31773743 -1.33301228]\n",
      " [ 0.22006862 -1.88659585  0.14101249 -0.25764103]\n",
      " [-0.02906567 -0.97003107  0.14101249  0.01120178]\n",
      " [-1.02560283  1.09223971 -1.25938744 -0.79532665]\n",
      " [-1.52387142  1.3213809  -1.60948742 -1.33301228]\n",
      " [-1.64843856 -1.65745466 -1.43443743 -1.19859087]\n",
      " [ 0.59377006 -0.28260748  1.07461245  0.81773022]\n",
      " [ 0.46920292 -0.28260748  0.31606248  0.14562319]\n",
      " [-0.90103569  1.7796633  -1.08433745 -1.06416946]\n",
      " [ 0.34463577 -0.28260748  0.54946247  0.2800446 ]\n",
      " [ 0.84290435 -0.05346628  1.01626245  0.81773022]\n",
      " [-0.90103569  1.09223971 -1.37608743 -1.33301228]\n",
      " [ 1.09203865 -1.19917226  1.19131244  0.81773022]\n",
      " [-0.40276711 -1.65745466  0.14101249  0.14562319]\n",
      " [ 0.84290435 -0.51174867  0.49111248  0.414466  ]\n",
      " [ 0.34463577 -0.05346628  0.66616247  0.81773022]\n",
      " [-0.52733425  1.5505221  -1.31773743 -1.33301228]\n",
      " [-1.15016998 -1.42831346 -0.26743749 -0.25764103]\n",
      " [ 1.09203865  0.63395731  1.13296244  1.75868006]\n",
      " [-0.40276711 -1.42831346  0.0243125  -0.12321962]\n",
      " [-0.40276711 -1.19917226  0.14101249  0.14562319]\n",
      " [-1.27473713  0.86309851 -1.08433745 -1.33301228]\n",
      " [ 0.46920292  0.86309851  0.95791245  1.48983725]\n",
      " [ 1.09203865  0.17567492  0.54946247  0.414466  ]\n",
      " [ 1.34117294  0.17567492  0.78286246  1.48983725]\n",
      " [-0.90103569  0.63395731 -1.20103744 -0.92974806]\n",
      " [-1.27473713 -0.05346628 -1.37608743 -1.46743368]\n",
      " [ 0.59377006  0.86309851  1.07461245  1.62425865]\n",
      " [-1.27473713  0.17567492 -1.25938744 -1.33301228]\n",
      " [-1.02560283 -1.65745466 -0.26743749 -0.25764103]\n",
      " [ 1.09203865  0.17567492  0.37441248  0.2800446 ]\n",
      " [-0.90103569  1.7796633  -1.31773743 -1.19859087]\n",
      " [ 1.96400867 -0.51174867  1.36636243  0.95215163]\n",
      " [-0.77646854  0.86309851 -1.37608743 -1.33301228]\n",
      " [ 0.59377006 -1.65745466  0.37441248  0.14562319]\n",
      " [-0.90103569  0.86309851 -1.31773743 -1.33301228]\n",
      " [-1.15016998  0.17567492 -1.31773743 -1.46743368]\n",
      " [ 0.59377006 -0.74088987  0.66616247  0.81773022]]\n",
      "[8.88178420e-17 7.99360578e-16 1.48029737e-17 1.48029737e-17]\n",
      "[1. 1. 1. 1.]\n"
     ]
    }
   ],
   "source": [
    "# Daten Vorverarbeitung\n",
    "# Merkmalskalierung: erfolgt nur für TRainingsdaten\n",
    "\n",
    "from sklearn.preprocessing import StandardScaler\n",
    "s = StandardScaler()\n",
    "\n",
    "# nur für Trainingdaten\n",
    "s.fit(X_train) # Berechnen den Mittelwert und die Standardabweichung für die später Skalierung\n",
    "\n",
    "# Anwendung der Transformationen auf die Daten  x = (x-mean(x))/std(x)\n",
    "X_train_std = s.transform(X_train)\n",
    "X_test_std = s.transform(X_test)\n",
    "\n",
    "print(X_train_std)\n",
    "print((X_train_std).mean(axis=0)) # Der arithmetische Mittelwert des Spalte ~ 0\n",
    "print((X_train_std).std(axis=0))  # Standardabweichung =1 \n",
    "\n"
   ]
  },
  {
   "cell_type": "code",
   "execution_count": 53,
   "metadata": {},
   "outputs": [
    {
     "data": {
      "text/plain": [
       "MLPClassifier(activation='tanh', alpha=0.1, batch_size='auto', beta_1=0.9,\n",
       "       beta_2=0.999, early_stopping=False, epsilon=1e-08,\n",
       "       hidden_layer_sizes=(10, 10), learning_rate='constant',\n",
       "       learning_rate_init=0.001, max_iter=2000, momentum=0.9,\n",
       "       nesterovs_momentum=True, power_t=0.5, random_state=None,\n",
       "       shuffle=True, solver='sgd', tol=0.0001, validation_fraction=0.1,\n",
       "       verbose=False, warm_start=False)"
      ]
     },
     "execution_count": 53,
     "metadata": {},
     "output_type": "execute_result"
    }
   ],
   "source": [
    "#Training und Vorhersagen\n",
    "\n",
    "from sklearn.neural_network import MLPClassifier\n",
    "mlp= MLPClassifier (hidden_layer_sizes =(10,10), activation=\"tanh\", alpha=0.1, solver=\"sgd\", max_iter= 2000)\n",
    "mlp.fit(X_train, y_train.values.ravel())# trainiert auf TRainingdaten. (ravel: gibt uns 1-D Array zurückt)"
   ]
  },
  {
   "cell_type": "code",
   "execution_count": 54,
   "metadata": {},
   "outputs": [],
   "source": [
    "# Vorhersagen, p= predictions\n",
    "y_pred = mlp.predict(X_test)"
   ]
  },
  {
   "cell_type": "code",
   "execution_count": 55,
   "metadata": {},
   "outputs": [
    {
     "name": "stdout",
     "output_type": "stream",
     "text": [
      "[[11  0  0]\n",
      " [ 0  6  1]\n",
      " [ 0  0 12]]\n",
      "             precision    recall  f1-score   support\n",
      "\n",
      "          0       1.00      1.00      1.00        11\n",
      "          1       1.00      0.86      0.92         7\n",
      "          2       0.92      1.00      0.96        12\n",
      "\n",
      "avg / total       0.97      0.97      0.97        30\n",
      "\n"
     ]
    }
   ],
   "source": [
    "# Berwertung des Algorithmus\n",
    "from sklearn.metrics import classification_report, confusion_matrix\n",
    "\n",
    "# Konfusionsmatrix: zur bewertung der Genauigkeit einer Klassifizierung\n",
    "print(confusion_matrix(y_test, y_pred, labels=[0,1,2]))\n",
    "print(classification_report(y_test, y_pred))"
   ]
  },
  {
   "cell_type": "code",
   "execution_count": 56,
   "metadata": {},
   "outputs": [
    {
     "name": "stdout",
     "output_type": "stream",
     "text": [
      "[[ 0.45648203 -0.10488973  0.09683492 -0.12188549 -0.62184474  0.30819875\n",
      "  -0.22366331  0.29264098 -0.6017627   0.38705529]\n",
      " [-0.08263832  0.54967211  0.28244718  0.80612716 -0.58160719  0.29932763\n",
      "   0.29535273 -0.0474325  -0.42208713 -0.35711581]\n",
      " [-0.24351292 -0.44152888  0.0470942  -0.50391657  0.54236834 -0.49115306\n",
      "  -0.080909   -0.12001769  0.81974489  0.23587034]\n",
      " [ 0.36284092 -0.59198295  0.03784777 -0.15930053 -0.24499229 -0.50695321\n",
      "  -0.63589837 -0.03173565  0.66526305 -0.50650635]]\n"
     ]
    }
   ],
   "source": [
    "print(mlp.coefs_[0])"
   ]
  },
  {
   "cell_type": "code",
   "execution_count": null,
   "metadata": {},
   "outputs": [],
   "source": []
  },
  {
   "cell_type": "code",
   "execution_count": 57,
   "metadata": {},
   "outputs": [
    {
     "name": "stdout",
     "output_type": "stream",
     "text": [
      "[-0.2838072   0.25998003  0.60420523  0.34573497 -0.08487395  0.34413407\n",
      " -0.59691412  0.25375713 -0.10320722 -0.56676979]\n"
     ]
    }
   ],
   "source": [
    "print(mlp.intercepts_[0])\n"
   ]
  },
  {
   "cell_type": "code",
   "execution_count": 70,
   "metadata": {},
   "outputs": [
    {
     "data": {
      "text/plain": [
       "GridSearchCV(cv=None, error_score='raise',\n",
       "       estimator=MLPClassifier(activation='relu', alpha=0.0001, batch_size='auto', beta_1=0.9,\n",
       "       beta_2=0.999, early_stopping=True, epsilon=1e-08,\n",
       "       hidden_layer_sizes=(10, 10), learning_rate='constant',\n",
       "       learning_rate_init=0.001, max_iter=2000, momentum=0.9,\n",
       "       nesterovs_momentum=True, power_t=0.5, random_state=1, shuffle=True,\n",
       "       solver='adam', tol=0.0001, validation_fraction=0.1, verbose=False,\n",
       "       warm_start=False),\n",
       "       fit_params=None, iid=True, n_jobs=1,\n",
       "       param_grid={'activation': ['identity', 'logistic', 'tanh', 'relu'], 'solver': ['lbfgs', 'sgd', 'adam'], 'alpha': [0.001, 0.01, 0.1, 1, 10, 100], 'learning_rate': ['constant', 'invscaling', 'adaptive']},\n",
       "       pre_dispatch='2*n_jobs', refit=True, return_train_score='warn',\n",
       "       scoring=None, verbose=0)"
      ]
     },
     "execution_count": 70,
     "metadata": {},
     "output_type": "execute_result"
    }
   ],
   "source": [
    "from sklearn.model_selection import GridSearchCV\n",
    "\n",
    "parameters ={\"activation\":[\"identity\", \"logistic\", \"tanh\", \"relu\"],\n",
    "             \"solver\":[\"lbfgs\", \"sgd\", \"adam\"],\n",
    "             \"alpha\":[0.001, 0.01, 0.1, 1, 10, 100],\n",
    "             \"learning_rate\":[\"constant\", \"invscaling\", \"adaptive\"]}\n",
    "\n",
    "GS=GridSearchCV(estimator= MLPClassifier( hidden_layer_sizes= (10,10), max_iter=2000, random_state=1, early_stopping= True),\n",
    "                 param_grid=parameters)\n",
    "\n",
    "GS.fit(X_train, y_train.values.ravel())\n",
    "# > 1 Minute"
   ]
  },
  {
   "cell_type": "code",
   "execution_count": 80,
   "metadata": {},
   "outputs": [
    {
     "name": "stdout",
     "output_type": "stream",
     "text": [
      "             precision    recall  f1-score   support\n",
      "\n",
      "          0       1.00      1.00      1.00        11\n",
      "          1       1.00      0.86      0.92         7\n",
      "          2       0.92      1.00      0.96        12\n",
      "\n",
      "avg / total       0.97      0.97      0.97        30\n",
      "\n"
     ]
    }
   ],
   "source": [
    "p= GS.predict(X_test)\n",
    "print(classification_report(y_test, p))\n",
    "\n"
   ]
  },
  {
   "cell_type": "code",
   "execution_count": 72,
   "metadata": {},
   "outputs": [
    {
     "name": "stdout",
     "output_type": "stream",
     "text": [
      "0.9666666666666667\n"
     ]
    }
   ],
   "source": [
    "\n",
    "print(GS.best_estimator_.score(X_test, y_test))"
   ]
  },
  {
   "cell_type": "code",
   "execution_count": 73,
   "metadata": {},
   "outputs": [
    {
     "name": "stdout",
     "output_type": "stream",
     "text": [
      "MLPClassifier(activation='identity', alpha=1, batch_size='auto', beta_1=0.9,\n",
      "       beta_2=0.999, early_stopping=True, epsilon=1e-08,\n",
      "       hidden_layer_sizes=(10, 10), learning_rate='constant',\n",
      "       learning_rate_init=0.001, max_iter=2000, momentum=0.9,\n",
      "       nesterovs_momentum=True, power_t=0.5, random_state=1, shuffle=True,\n",
      "       solver='lbfgs', tol=0.0001, validation_fraction=0.1, verbose=False,\n",
      "       warm_start=False)\n"
     ]
    }
   ],
   "source": [
    "print(GS.best_estimator_)"
   ]
  },
  {
   "cell_type": "code",
   "execution_count": 74,
   "metadata": {},
   "outputs": [
    {
     "name": "stdout",
     "output_type": "stream",
     "text": [
      "0.9833333333333333\n"
     ]
    }
   ],
   "source": [
    "print(GS.best_score_)"
   ]
  },
  {
   "cell_type": "code",
   "execution_count": 75,
   "metadata": {},
   "outputs": [
    {
     "name": "stdout",
     "output_type": "stream",
     "text": [
      "{'activation': 'identity', 'alpha': 1, 'learning_rate': 'constant', 'solver': 'lbfgs'}\n"
     ]
    }
   ],
   "source": [
    "print(GS.best_params_)"
   ]
  },
  {
   "cell_type": "code",
   "execution_count": null,
   "metadata": {},
   "outputs": [],
   "source": []
  },
  {
   "cell_type": "code",
   "execution_count": 76,
   "metadata": {},
   "outputs": [
    {
     "data": {
      "text/plain": [
       "RandomizedSearchCV(cv=None, error_score='raise',\n",
       "          estimator=MLPClassifier(activation='relu', alpha=0.0001, batch_size='auto', beta_1=0.9,\n",
       "       beta_2=0.999, early_stopping=True, epsilon=1e-08,\n",
       "       hidden_layer_sizes=(20,), learning_rate='constant',\n",
       "       learning_rate_init=0.001, max_iter=1000, momentum=0.9,\n",
       "       nesterovs_momentum=True, power_t=0.5, random_state=1, shuffle=True,\n",
       "       solver='adam', tol=0.0001, validation_fraction=0.1, verbose=False,\n",
       "       warm_start=False),\n",
       "          fit_params=None, iid=True, n_iter=20, n_jobs=1,\n",
       "          param_distributions={'activation': ['identity', 'logistic', 'tanh', 'relu'], 'solver': ['lbfgs', 'sgd', 'adam'], 'alpha': [0.001, 0.01, 0.1, 1, 10, 100], 'learning_rate': ['constant', 'invscaling', 'adaptive']},\n",
       "          pre_dispatch='2*n_jobs', random_state=None, refit=True,\n",
       "          return_train_score='warn', scoring=None, verbose=0)"
      ]
     },
     "execution_count": 76,
     "metadata": {},
     "output_type": "execute_result"
    }
   ],
   "source": [
    "from sklearn.model_selection import RandomizedSearchCV\n",
    "params= {\"activation\":[\"identity\", \"logistic\", \"tanh\", \"relu\"],\n",
    "             \"solver\":[\"lbfgs\", \"sgd\", \"adam\"],\n",
    "             \"alpha\":[0.001, 0.01, 0.1, 1, 10, 100],\n",
    "             \"learning_rate\":[\"constant\", \"invscaling\", \"adaptive\"]}\n",
    "RS= RandomizedSearchCV (estimator=MLPClassifier( hidden_layer_sizes= (20,), max_iter=1000, random_state=1, early_stopping= True),\n",
    "                 param_distributions=params, n_iter=20)\n",
    "RS.fit(X_train, y_train.values.ravel())\n"
   ]
  },
  {
   "cell_type": "code",
   "execution_count": 77,
   "metadata": {},
   "outputs": [
    {
     "name": "stdout",
     "output_type": "stream",
     "text": [
      "MLPClassifier(activation='identity', alpha=0.001, batch_size='auto',\n",
      "       beta_1=0.9, beta_2=0.999, early_stopping=True, epsilon=1e-08,\n",
      "       hidden_layer_sizes=(20,), learning_rate='constant',\n",
      "       learning_rate_init=0.001, max_iter=1000, momentum=0.9,\n",
      "       nesterovs_momentum=True, power_t=0.5, random_state=1, shuffle=True,\n",
      "       solver='lbfgs', tol=0.0001, validation_fraction=0.1, verbose=False,\n",
      "       warm_start=False)\n"
     ]
    }
   ],
   "source": [
    "print (RS.best_estimator_)"
   ]
  },
  {
   "cell_type": "code",
   "execution_count": 78,
   "metadata": {},
   "outputs": [
    {
     "name": "stdout",
     "output_type": "stream",
     "text": [
      "0.975\n"
     ]
    }
   ],
   "source": [
    "print(RS.best_score_)"
   ]
  },
  {
   "cell_type": "code",
   "execution_count": 79,
   "metadata": {},
   "outputs": [
    {
     "name": "stdout",
     "output_type": "stream",
     "text": [
      "{'solver': 'lbfgs', 'learning_rate': 'constant', 'alpha': 0.001, 'activation': 'identity'}\n"
     ]
    }
   ],
   "source": [
    "print(RS.best_params_)"
   ]
  },
  {
   "cell_type": "code",
   "execution_count": null,
   "metadata": {},
   "outputs": [],
   "source": []
  }
 ],
 "metadata": {
  "kernelspec": {
   "display_name": "Python 3",
   "language": "python",
   "name": "python3"
  },
  "language_info": {
   "codemirror_mode": {
    "name": "ipython",
    "version": 3
   },
   "file_extension": ".py",
   "mimetype": "text/x-python",
   "name": "python",
   "nbconvert_exporter": "python",
   "pygments_lexer": "ipython3",
   "version": "3.6.4"
  }
 },
 "nbformat": 4,
 "nbformat_minor": 2
}
